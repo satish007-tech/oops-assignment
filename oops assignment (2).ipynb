{
 "cells": [
  {
   "cell_type": "markdown",
   "id": "13a823fb-f89f-4da9-8ed9-e67473c53e18",
   "metadata": {},
   "source": [
    "# OOPS Assignment"
   ]
  },
  {
   "cell_type": "markdown",
   "id": "e15b0555-db72-42c3-830a-ac351ab9469a",
   "metadata": {},
   "source": [
    "## Theory Questions"
   ]
  },
  {
   "cell_type": "markdown",
   "id": "a2c4fb77-05f7-4517-8a4c-9ff6d83f79f2",
   "metadata": {},
   "source": [
    "### (1) What is Object-Oriented Programming (OOP)?\n",
    "-> Object-oriented programming (OOP) is defined as a programming paradigm (and not a specific language) built on the concept of objects, i.e., a set of data contained in fields, and code, indicating procedures – instead of the usual logic-based system.\n",
    " Advantages of OOP:\n",
    "\n",
    "Modularity: Code is divided into smaller, manageable chunks (classes and objects).\n",
    "\n",
    "Reusability: Classes can be reused in different parts of the program or in other programs.\n",
    "\n",
    "Maintainability: Easier to update or extend the codebase.\n",
    "\n",
    "Scalability: Well-suited for large, complex programs."
   ]
  },
  {
   "cell_type": "markdown",
   "id": "d17d82b2-13a4-4cc0-8003-0e62a5509273",
   "metadata": {},
   "source": [
    "### (2) What is a class in OOP?\n",
    "->  In Object-Oriented Programming (OOP), a class is a blueprint or template for creating objects. It defines the attributes (also called properties or fields) and methods (also called functions or behaviors) that the objects created from it will have. A class acts as a structure that defines what the objects of that class will contain and what they can do.\n",
    "\n",
    "Key Points About a Class:\n",
    "\n",
    "Attributes: These are the data stored in an object. They represent the state or characteristics of an object. For example, in a \"Car\" class, attributes might include color, model, and speed.\n",
    "\n",
    "Methods: These are functions defined inside the class that describe the actions the objects of that class can perform. For example, in a \"Car\" class, a method might be drive() which controls the behavior of the car.\n",
    "\n",
    "Constructor: A special method that is automatically called when an object is created from the class. In many languages, this method is named init (in Python), constructor (in Java), etc. It is used to initialize the object's attributes."
   ]
  },
  {
   "cell_type": "markdown",
   "id": "3eb645f8-d187-4c58-ab2f-2bcac9a85728",
   "metadata": {},
   "source": [
    "### (3) What is an object in OOP?\n",
    "\n",
    "-> In object-oriented programming (OOP), an object is a unit of code that represents a data structure or abstract data type. Objects are the basic building blocks of OOP applications and are the first things considered when designing a program.\n",
    "\n",
    "=> Here are some characteristics of objects in OOP:\n",
    "\n",
    "Identity -:\n",
    "Each object has a unique identifier that distinguishes it from other objects.\n",
    "\n",
    "\n",
    "State-:\n",
    "An object's state refers to its properties, such as the values of its variables.\n",
    "\n",
    "Behavior-:\n",
    "An object's behavior refers to the actions it can take, such as responding to other objects. \n",
    "\n",
    "Fields-:\n",
    "Objects contain fields, also known as members, attributes, or properties, which are state variables that contain data.\n",
    "\n",
    "Methods-:\n",
    "Objects contain methods, which are subroutines or procedures that define the object's behavior. "
   ]
  },
  {
   "cell_type": "markdown",
   "id": "6d415271-9d10-4214-bba5-7a882da884f9",
   "metadata": {},
   "source": [
    "### (4) What is the difference between abstraction and encapsulation?\n",
    "\n",
    "->In Python, abstraction and encapsulation are both key principles of Object-Oriented Programming (OOP) that help manage complexity and improve code quality.\n",
    "\n",
    "Abstraction-:\n",
    "Simplifies complex systems by hiding implementation details and focusing on the essential features of an object or system. Abstraction provides a high-level view that makes code more readable.\n",
    "\n",
    "Encapsulation-:\n",
    "Secures data integrity by restricting direct access to an object's data and methods. Encapsulation ensures that the details are hidden and protected, and that only a suitable interface is provided for accessing and processing the data"
   ]
  },
  {
   "cell_type": "markdown",
   "id": "e3e9f782-7321-48c0-9cd2-4817d7f70925",
   "metadata": {},
   "source": [
    "### (5) What are dunder methods in Python?\n",
    "\n",
    "-> Python dunder methods are the special predefined methods having two prefixes and two suffix underscores in the method name. Here, the word dunder means double under (underscore). These special dunder methods are used in case of operator overloading ( they provide extended meaning beyond the predefined meaning to an operator)."
   ]
  },
  {
   "cell_type": "markdown",
   "id": "97ef4e65-cfcf-448e-9d6a-074363f958e2",
   "metadata": {},
   "source": [
    "### (6)  Explain the concept of inheritance in OOP?\n",
    "-> In Python, inheritance is a fundamental concept in object-oriented programming (OOP) that allows new classes to inherit attributes and methods from existing classes. This creates a hierarchy of classes with shared properties and features.\n",
    "\n",
    "=> Here are some key concepts of inheritance in Python:\n",
    "\n",
    "Classes-:\n",
    "The class that inherits from another class is called the child class, while the class being inherited from is called the parent class. \n",
    "\n",
    "Code reuse-:\n",
    "Inheritance promotes code reuse by allowing developers to reference the behaviors and data of an object.\n",
    "\n",
    "Hierarchy-:\n",
    "Inheritance creates a clear hierarchy and organization in code, with common functionalities centralized in the base class. \n",
    "\n",
    "Method overriding-:\n",
    "A subclass can override a method in its base class by providing a specific implementation.\n",
    "\n",
    "Super() function-:\n",
    "The super() function can be used to access the superclass method from the subclass. "
   ]
  },
  {
   "cell_type": "markdown",
   "id": "bacf9806-827e-4c59-9563-3c549fd6c9ae",
   "metadata": {},
   "source": [
    "### (7) What is polymorphism in OOP?\n",
    "\n",
    "->Polymorphism is a fundamental concept in object-oriented programming (OOP) that allows objects of different types to be treated as objects of a common superclass. It's a feature that allows a programming language to present the same interface for different data types and objects to respond uniquely to the same message.\n",
    "\n",
    "->Polymorphism is important because it enables code reusability and flexibility. It also allows for a single variable name to be used to store variables of multiple data types. \n",
    "\n",
    "Some examples of polymorphism include:\n",
    "\n",
    "Method overloading-:\n",
    "Functions share the same name but differ in the number, types, or order of arguments they accept. \n",
    "\n",
    "Method overriding-:\n",
    "The decision about which method implementation to execute depends on the actual object type at runtime"
   ]
  },
  {
   "cell_type": "markdown",
   "id": "cfe3b2f9-7b30-410b-9d4e-baea419e49c6",
   "metadata": {},
   "source": [
    "### (8)How is encapsulation achieved in Python?\n",
    "\n",
    "->Encapsulation is a programming technique that bundles a class's attributes and methods into a single unit. It helps to: Promote code reusability, Maintain code, Improve security, Reduce the risk of accidental data modification, and Make it easier to modify or extend functionality. \n",
    "\n",
    "->Python's encapsulation is convention-based, rather than strictly enforced by the language. However, adhering to these conventions is important for maintaining clean and maintainable code. \n",
    "\n",
    "In Python, encapsulation is achieved by using access modifiers to limit access to a class's variables and methods:\n",
    "\n",
    "Public-:\n",
    "Attributes and methods are public by default, meaning they can be accessed from outside the class.\n",
    "\n",
    "Private-:\n",
    "Use a double underscore prefix (__) to make an attribute private. Private members are only accessible within the class and are intended for internal use.\n",
    "\n",
    "Protected-:\n",
    "Use a single underscore prefix (_) to indicate that an attribute is meant for internal use within the class and its subclass. Protected members are not as strictly enforced as private members"
   ]
  },
  {
   "cell_type": "markdown",
   "id": "fb0692ae-1a5f-4f32-9fc5-d22c4d1fbdd1",
   "metadata": {},
   "source": [
    "### (9)What is a constructor in Python?\n",
    "\n",
    "-> constructor is a unique function that gets called automatically when an object of a class is created. The main purpose of a constructor is to initialize or assign values to the data members of that class. It cannot return any value other than none.\n",
    "\n",
    "Rules of Python Constructor-:\n",
    "\n",
    "- It starts with the def keyword, like all other functions in Python.\n",
    "  \n",
    "- It is followed by the word init, which is prefixed and suffixed with double underscores with a pair of brackets, i.e., __init__().\n",
    "\n",
    "- It takes an argument called self, assigning values to the variables.\n",
    "\n",
    "  \n",
    "=> Self is a reference to the current instance of the class. It is created and passed automatically/implicitly to the __init__() when the constructor is called.\n"
   ]
  },
  {
   "cell_type": "markdown",
   "id": "37f8f142-cc7a-4827-b302-5629deeef176",
   "metadata": {},
   "source": [
    "### (10)What are class and static methods in Python?\n",
    "\n",
    "=> class method-:\n",
    "\n",
    "(a) The class method takes cls (class) as first argument.\n",
    "\n",
    "(b) Class method can access and modify the class state.\n",
    "\n",
    "(c) The class method takes the class as parameter to know about the state of that class.\n",
    "\n",
    "(d) @classmethod decorator is used here. \n",
    "\n",
    "=> static method-:\n",
    "\n",
    "(a) The static method does not take any specific parameter.\n",
    "\n",
    "(b) Static Method cannot access or modify the class state.\n",
    "\n",
    "(c) Static methods do not know about class state. These methods are used to do some utility tasks by taking some parameters.\n",
    "\n",
    "(d) @staticmethod decorator is used here.\n"
   ]
  },
  {
   "cell_type": "markdown",
   "id": "93646874-6eab-4968-a6c9-caf7529c3001",
   "metadata": {},
   "source": [
    "### (11) What is method overloading in Python?\n",
    "\n",
    "->Methods in Python can be called with zero, one, or more parameters. This process of calling the same method in different ways is called method overloading. It is one of the important concepts in OOP. Two methods cannot have the same name in Python; hence method overloading is a feature that allows the same operator to have different meanings.\n",
    "\n",
    "=> Advantages of method overloading in python:\n",
    "\n",
    "-reduces complexities\n",
    "\n",
    "-improves the quality of the code\n",
    "\n",
    "-is also used for reusability and easy accessibility"
   ]
  },
  {
   "cell_type": "markdown",
   "id": "f3d5ec84-b245-4c47-b4d8-ddf2c2ce1a6e",
   "metadata": {},
   "source": [
    "### (12) What is method overriding in OOP?\n",
    "\n",
    "-> Method overriding is a concept in Object-Oriented Programming (OOP) where a subclass provides a specific implementation for a method that is already defined in its superclass. The subclass method overrides the parent class method with the same name and signature (same parameters). When the method is called on an object of the subclass, the subclass's version of the method is executed, not the superclass's version.\n",
    "\n",
    "Key Characteristics of Method Overriding:\n",
    "\n",
    "- The method in the subclass must have the same name and signature (same parameters) as the method in the parent class.\n",
    "\n",
    "- The subclass method replaces or modifies the behavior of the parent class method.\n",
    "\n",
    "- Method overriding allows the subclass to provide a more specific implementation of the method, while the parent class provides a general one.\n",
    "\n",
    "- In Python, method overriding does not require any special syntax (besides redefining the method in the subclass)."
   ]
  },
  {
   "cell_type": "markdown",
   "id": "9ebcb4ae-0ea8-4712-ad78-58320db4e457",
   "metadata": {},
   "source": [
    "### (13) What is a property decorator in Python?\n",
    "\n",
    "->In Python, a property decorator is a built-in decorator that allows you to define methods that behave like attributes. It is used to manage how attributes are accessed and modified in a class, while still maintaining the ability to perform additional actions such as validation, calculation, or logging when getting or setting an attribute value\n",
    "\n",
    "Key Features of the property Decorator:\n",
    "\n",
    "It allows you to encapsulate an attribute in a class, enabling custom logic to execute when the attribute is accessed or modified.\n",
    "\n",
    "You can define a getter, setter, and deleter for an attribute, and the property decorator manages how these methods are accessed.\n",
    "\n",
    "It allows you to access a method like an attribute without explicitly calling it like a function."
   ]
  },
  {
   "cell_type": "markdown",
   "id": "83bbb031-6413-4570-b4be-94ef25c53469",
   "metadata": {},
   "source": [
    "### (14)Why is polymorphism important in OOP?\n",
    "\n",
    "-> Polymorphism is an important feature of object-oriented programming (OOP) because it allows programmers to write more efficient and maintainable code: \n",
    "\n",
    "=> Why is Polymorphism Important in OOP:\n",
    "\n",
    "\n",
    "Code reusability: Polymorphism allows programmers to reuse code by writing generic functions or classes that can work with objects of different types. For example, a single function can be written to work with any shape that shares a common interface. \n",
    "\n",
    "Improved maintainability: Polymorphism allows programmers to add or modify functionality without having to rewrite code. For example, a new subclass can automatically use the same methods as its parent class. \n",
    "\n",
    "Simplified complex systems: Polymorphism allows different objects to be handled through a single interface, which simplifies the design of complex systems. \n",
    "\n",
    "Improved code readability: Polymorphism can improve code readability by allowing functions to share the same name but have different arguments. \n",
    "Faster development: Reusing code saves time and speeds up development. \n",
    "\n",
    "Simplified debugging: Polymorphism simplifies variable searches, execution, and code debugging."
   ]
  },
  {
   "cell_type": "markdown",
   "id": "bd543a11-3f1b-4e79-b151-7a738feda383",
   "metadata": {},
   "source": [
    "### (15) What is an abstract class in Python?\n",
    "\n",
    "->In Python, an abstract class is a class that cannot be instantiated on its own and is intended to be subclassed by other classes. Abstract classes are used to: \n",
    "\n",
    "- Provide a blueprint for other classes.\n",
    "\n",
    "- Enforce a common structure.\n",
    "\n",
    "- Allow derived classes to provide concrete implementations for abstract methods.\n",
    "\n",
    "- Create large functional units.\n",
    "\n",
    "- Offer a standard interface for various implementations of a component.\n",
    "\n",
    "- In Python, abstract classes are defined using the abc (Abstract Base Class) module, which provides the ABC class and the abstractmethod decorator. An abstract class can have both abstract methods (which must be implemented by subclasses) and non-abstract methods (which can provide default behavior).\n",
    "\n",
    "- Syntax:\n",
    "\n",
    "ABC is the base class for all abstract classes.\n",
    "\n",
    "@abstractmethod decorator is used to mark methods as abstract."
   ]
  },
  {
   "cell_type": "markdown",
   "id": "3388327f-4294-4d66-b205-4372090c59f6",
   "metadata": {},
   "source": [
    "### (16) What are the advantages of OOP?\n",
    "\n",
    "->Object-oriented programming (OOP) has many advantages, including:\n",
    "\n",
    "Code maintenance: OOP tools like abstraction, encapsulation, and inheritance make it easier to maintain, modify, and debug code.\n",
    "\n",
    "Code reusability: OOP inheritance allows programmers to reuse code instead of manually developing it multiple times.\n",
    "\n",
    "Modularity: Encapsulation in OOP bundles data and methods within a class, which makes code easier to maintain and debug.\n",
    "\n",
    "Security: Encapsulation makes code secure and free of unintended data corruption.\n",
    "\n",
    "Problem-solving: OOP breaks down problems into smaller code pieces, which allows for faster and more effective problem-solving.\n",
    "\n",
    "Improved software development productivity: OOP is more productive than conventional procedure-based programming techniques due to its extensibility, modularity, and reusability. \n",
    "\n",
    "Better productivity: OOP practices can help increase productivity. \n",
    "\n",
    "Simplifying debugging: OOP can help simplify debugging. \n",
    "\n",
    "Streamlining data management: OOP can help streamline data management to reduce redundancy.\n",
    "\n",
    "Code flexibility: OOP can help embrace code flexibility for adaptable solutions. \n"
   ]
  },
  {
   "cell_type": "markdown",
   "id": "526fe10d-f97d-42e0-93d7-cc4e1f74396f",
   "metadata": {},
   "source": [
    "### (17)What is the difference between a class variable and an instance variable?\n",
    "\n",
    "-> The main difference between a class variable and an instance variable is that a class variable is shared by all instances of a class, while an instance variable is unique to each instance.\n",
    "\n",
    "Class variables:\n",
    "\n",
    "A single copy of a class variable exists, regardless of how many instances of the class exist. Class variables are useful for sharing data between all instances of a class, such as keeping track of the number of instances created or storing a constant value. \n",
    "\n",
    "Instance variables:\n",
    "\n",
    "Each instance of a class has its own independent copy of an instance variable. Instance variables are useful for storing data that is specific to each instance, such as the name or age of a person"
   ]
  },
  {
   "cell_type": "markdown",
   "id": "acbdef89-4037-4133-8f2d-1703c0944e2a",
   "metadata": {},
   "source": [
    "### (18) What is multiple inheritance in Python?\n",
    "\n",
    "-> Inheritance is the mechanism to achieve the re-usability of code as one class(child class) can derive the properties of another class(parent class). \n",
    "\n",
    " :- Multiple inheritance is a feature in Python that allows a class to inherit attributes and methods from more than one parent class.\n",
    "\n",
    "Multiple inheritance allows you to: \n",
    "\n",
    "-Combine the behavior of multiple base classes into a single derived class.\n",
    "\n",
    "-Create complex class hierarchies.\n",
    "    \n",
    "-Promote code reuse.\n",
    "    \n",
    "-Result in more flexible and modular code."
   ]
  },
  {
   "cell_type": "markdown",
   "id": "5c6cf9a6-f24f-4e48-8cab-aef3397b4687",
   "metadata": {},
   "source": [
    "### (19)Explain the purpose of ‘’__str__’ and ‘__repr__’ ‘ methods in Python?\n",
    "\n",
    "-> In Python, the __str__ and __repr__ methods are used to create string representations of objects.\n",
    "\n",
    "str -:\n",
    "\n",
    "purpose - Returns a human-readable string representation of an object. It's used for informal representations, such as printing objects for users. The __str__ method is called by the built-in print(), str(), and format() functions.\n",
    "\n",
    "repr -:\n",
    "\n",
    "purpose - Returns a more information-rich string representation of an object. It's used for formal representations, such as debugging, logging, and object inspection. The __repr__ method is called by the built-in repr() function."
   ]
  },
  {
   "cell_type": "markdown",
   "id": "c6b9fae2-fb8f-4394-ae74-aa212731b730",
   "metadata": {},
   "source": [
    "### (20)What is the significance of the ‘super()’ function in Python?\n",
    "\n",
    "-> The super() function in Python is used to call methods from a parent class (or superclass) in a child class. It provides a way to access methods and attributes of a parent class without explicitly naming the parent class. This is especially useful in the context of inheritance and method overriding.\n",
    "\n",
    "Key Purposes of super():\n",
    "\n",
    "Calling Parent Class Methods: It allows you to call methods from the parent class in a child class, especially when you override methods in the child class.\n",
    "\n",
    "Method Resolution Order (MRO): It helps ensure that methods from multiple inheritance are called in the correct order by Python’s method resolution order (MRO).\n",
    "\n",
    "Avoiding Direct Parent Class References: Using super() makes the code more maintainable and flexible, as you don't have to hardcode the parent class name. This is particularly helpful when dealing with multiple inheritance.\n",
    "\n",
    "Accessing Parent Class Constructor: You can use super() to call the parent class's init()"
   ]
  },
  {
   "cell_type": "markdown",
   "id": "8f8e94d6-5004-4047-8e60-39a95a31d03b",
   "metadata": {},
   "source": [
    "### (21) What is the significance of the __del__ method in Python?\n",
    "\n",
    "->In Python, everything is an object, with attributes and functions in practically everything. Python del’s primary goal is to \n",
    "destroy objects in the Python programming language. The del statement is used to delete a name from the scope of the program.\n",
    "When the del statement is used on a name, that name’s identity is gone. Any subsequent references to it will throw a Name Error exception.\n",
    "\n",
    "Purpose and Significance of del():\n",
    "\n",
    "Resource Cleanup: It allows you to release resources (such as closing files, network connections, or database connections) when an object is no longer needed.\n",
    "\n",
    "Automatic Garbage Collection: Python uses automatic garbage collection to manage memory, and del() is called when an object’s reference count reaches zero. This is usually triggered when an object goes out"
   ]
  },
  {
   "cell_type": "markdown",
   "id": "6adccda9-4108-43b0-be5e-dcc06728a87f",
   "metadata": {},
   "source": [
    "### (22) What is the difference between @staticmethod and @classmethod in Python?\n",
    "\n",
    "-> In Python, the main difference between @classmethod and @staticmethod is that class methods can access and modify class state, while static methods cannot.\n",
    "\n",
    "@classmethod :\n",
    "\n",
    "Creates a class method that takes the class as its first argument, cls. Class methods can be called on the class itself or on an instance of the class, but the instance is automatically passed as the first argument. Class methods can be useful for defining behaviors that affect a class as a whole, such as alternative constructors or factory methods. \n",
    "\n",
    "@staticmethod :\n",
    "\n",
    "Creates a static method that doesn't require self or cls as an argument. Static methods are utility functions that operate on parameters after receiving them. They are not bound to either the class or an instance of the class, and they can't access or modify instance or class variables directly. Static methods can be useful for writing test code because they are independent from the rest of the class. "
   ]
  },
  {
   "cell_type": "markdown",
   "id": "566b9f09-9ba5-4428-b4b8-7da35fc29184",
   "metadata": {},
   "source": [
    "### (23) How does polymorphism work in Python with inheritance?\n",
    "\n",
    "-> Polymorphism in Python, especially in the context of inheritance, refers to the ability of different classes to provide different implementations of the same method, allowing objects of different classes to be treated as instances of a common superclass. In Python, polymorphism allows you to call methods on objects of different types (derived from a common base class), and each type can have its own implementation of the method.\n",
    "\n",
    "Key Concepts of Polymorphism in Python:\n",
    "\n",
    "Method Overriding: Polymorphism is often implemented through method overriding, where a method in the child class has the same name as a method in the parent class but provides a different behavior.\n",
    "\n",
    "Dynamic Dispatch: In Python, the appropriate method is chosen at runtime based on the object’s type (this is known as dynamic method dispatch).\n",
    "\n",
    "Polymorphism Through Inheritance and Method Overriding: Polymorphism allows us to write more flexible and reusable code. For instance, if you have a function that processes a collection of animals (which could be dogs, cats, or other subclasses of Animal), the same function can work with all types of animals, but each animal will \"speak\" in its own way."
   ]
  },
  {
   "cell_type": "markdown",
   "id": "cc66cbbe-b1c7-4588-9cce-4fcbb1009ae6",
   "metadata": {},
   "source": [
    "### (24) What is method chaining in Python OOP?\n",
    "\n",
    "-> In Python object-oriented programming (OOP), method chaining is a technique for calling multiple methods on an object in a single line of code.\n",
    "\n",
    "How it works:-\n",
    "\n",
    "Each method in the chain returns the object itself or a derived version of it, which allows the next method to be called on the same object. This means that intermediate results don't need to be stored in variables.\n",
    "\n",
    "Benefits:-\n",
    "\n",
    "Method chaining makes code more readable and cleaner by combining multiple actions into one line. It also allows for more complex tasks to be accomplished with a single line of code"
   ]
  },
  {
   "cell_type": "markdown",
   "id": "37a52aca-dded-401e-ad9c-5a5b82845145",
   "metadata": {},
   "source": [
    "### (25) What is the purpose of the __call__ method in Python?\n",
    "\n",
    "-> The purpose of the __call__ method in Python is to create callable objects, which are instances of a class that can be called like a function.\n",
    "\n",
    "What it does:\n",
    "\n",
    "The __call__ method allows you to write a class and invoke it as if it were a function.\n",
    "\n",
    "How it works:\n",
    "\n",
    "You can define a __call__ method in a class to make its instances callable. For example, you can define a __call__ method that defines the function body that's executed when an instance is used as a function.\n",
    "\n",
    "When to use it:\n",
    "\n",
    "Most Python classes don't implement the __call__ method, but you can add it to custom classes if you need to use your instances as functions. \n",
    "\n",
    "How to use it:\n",
    "\n",
    "You can use the () operator to indirectly call the __call__ method. For example, test() is shorthand for test.__call__()\n",
    "\n",
    "-:  The __call__ method is a built-in method in Python, also known as a dunder or magic method because of the two prefixes and suffix underscores in the method name"
   ]
  },
  {
   "cell_type": "markdown",
   "id": "98808ef5-77b0-4699-b9a8-6e0c60b5f6f7",
   "metadata": {},
   "source": [
    "## Practical Questions"
   ]
  },
  {
   "cell_type": "markdown",
   "id": "1396aa93-5e4a-414f-bd21-813d23f1167a",
   "metadata": {},
   "source": [
    "## (1) 1. Create a parent class Animal with a method speak() that prints a generic message. Create a child class Dog  that overrides the speak() method to print \"Bark!\""
   ]
  },
  {
   "cell_type": "code",
   "execution_count": 3,
   "id": "dde7d5e0-31a5-4433-a8ec-55ef7b1c9502",
   "metadata": {},
   "outputs": [
    {
     "name": "stdout",
     "output_type": "stream",
     "text": [
      "This is a generic animal sound.\n",
      "Bark!\n"
     ]
    }
   ],
   "source": [
    "#Parent class\n",
    "class Animal:\n",
    "    def speak(self):\n",
    "        print(\"This is a generic animal sound.\")\n",
    "\n",
    "# Child class\n",
    "class Dog(Animal):\n",
    "    def speak(self):\n",
    "        print(\"Bark!\")\n",
    "\n",
    "# Testing the classes\n",
    "animal = Animal()\n",
    "animal.speak()  # Output: This is a generic animal sound.\n",
    "\n",
    "dog = Dog()\n",
    "dog.speak()  # Output: Bark!\n"
   ]
  },
  {
   "cell_type": "markdown",
   "id": "e481fda0-bec3-4314-9b51-7fbfce9586e6",
   "metadata": {},
   "source": [
    "## (2)  Write a program to create an abstract class Shape with a method area(). Derive classes Circle and Rectangle from it and implement the area() method in both."
   ]
  },
  {
   "cell_type": "code",
   "execution_count": 5,
   "id": "13bc7b85-670a-4650-97a9-379d135503f1",
   "metadata": {},
   "outputs": [
    {
     "name": "stdout",
     "output_type": "stream",
     "text": [
      "Area of Circle: 78.54\n",
      "Area of Rectangle: 24\n"
     ]
    }
   ],
   "source": [
    "from abc import ABC, abstractmethod\n",
    "import math\n",
    "\n",
    "# Abstract class\n",
    "class Shape(ABC):\n",
    "    @abstractmethod\n",
    "    def area(self):\n",
    "        pass\n",
    "\n",
    "# Derived class for Circle\n",
    "class Circle(Shape):\n",
    "    def __init__(self, radius):\n",
    "        self.radius = radius\n",
    "\n",
    "    def area(self):\n",
    "        return math.pi * (self.radius ** 2)\n",
    "\n",
    "# Derived class for Rectangle\n",
    "class Rectangle(Shape):\n",
    "    def __init__(self, length, width):\n",
    "        self.length = length\n",
    "        self.width = width\n",
    "\n",
    "    def area(self):\n",
    "        return self.length * self.width\n",
    "\n",
    "# Testing the implementation\n",
    "circle = Circle(5)  # Circle with radius 5\n",
    "rectangle = Rectangle(4, 6)  # Rectangle with length 4 and width 6\n",
    "\n",
    "print(f\"Area of Circle: {circle.area():.2f}\")  # Output: Area of Circle: 78.54\n",
    "print(f\"Area of Rectangle: {rectangle.area()}\")  # Output: Area of Rectangle: 24\n",
    "\n",
    "     "
   ]
  },
  {
   "cell_type": "markdown",
   "id": "79daa1af-ae85-4c51-bb1d-01e19966d480",
   "metadata": {},
   "source": [
    "### (3) . Implement a multi-level inheritance scenario where a class Vehicle has an attribute type. Derive a class Car and further derive a class ElectricCar that adds a battery attribute."
   ]
  },
  {
   "cell_type": "code",
   "execution_count": 6,
   "id": "9472211a-2a4f-4e27-9ad4-f76a9ceffaf1",
   "metadata": {},
   "outputs": [
    {
     "name": "stdout",
     "output_type": "stream",
     "text": [
      "Vehicle type: General\n",
      "Vehicle type: Car\n",
      "Car brand: Toyota\n",
      "Vehicle type: Electric Car\n",
      "Car brand: Tesla\n",
      "Battery capacity: 75 kWh\n"
     ]
    }
   ],
   "source": [
    "# Base class\n",
    "class Vehicle:\n",
    "    def __init__(self, vehicle_type):\n",
    "        self.vehicle_type = vehicle_type\n",
    "\n",
    "    def display_type(self):\n",
    "        print(f\"Vehicle type: {self.vehicle_type}\")\n",
    "\n",
    "# Intermediate class\n",
    "class Car(Vehicle):\n",
    "    def __init__(self, vehicle_type, brand):\n",
    "        super().__init__(vehicle_type)\n",
    "        self.brand = brand\n",
    "\n",
    "    def display_car_details(self):\n",
    "        print(f\"Car brand: {self.brand}\")\n",
    "\n",
    "# Derived class\n",
    "class ElectricCar(Car):\n",
    "    def __init__(self, vehicle_type, brand, battery_capacity):\n",
    "        super().__init__(vehicle_type, brand)\n",
    "        self.battery_capacity = battery_capacity\n",
    "\n",
    "    def display_electric_car_details(self):\n",
    "        print(f\"Battery capacity: {self.battery_capacity} kWh\")\n",
    "\n",
    "# Testing the multi-level inheritance\n",
    "vehicle = Vehicle(\"General\")\n",
    "vehicle.display_type()  # Output: Vehicle type: General\n",
    "\n",
    "car = Car(\"Car\", \"Toyota\")\n",
    "car.display_type()  # Output: Vehicle type: Car\n",
    "car.display_car_details()  # Output: Car brand: Toyota\n",
    "\n",
    "electric_car = ElectricCar(\"Electric Car\", \"Tesla\", 75)\n",
    "electric_car.display_type()  # Output: Vehicle type: Electric Car\n",
    "electric_car.display_car_details()  # Output: Car brand: Tesla\n",
    "electric_car.display_electric_car_details()  # Output: Battery capacity: 75 kWh\n",
    "\n"
   ]
  },
  {
   "cell_type": "markdown",
   "id": "ba6ec474-acfd-4cbc-9d69-e144d664545e",
   "metadata": {},
   "source": [
    "### (4)  Implement a multi-level inheritance scenario where a class Vehicle has an attribute type. Derive a class Car and further derive a class ElectricCar that adds a battery attribute"
   ]
  },
  {
   "cell_type": "code",
   "execution_count": 8,
   "id": "603cd6c2-74eb-4b0a-87d4-f196d40c100c",
   "metadata": {},
   "outputs": [
    {
     "name": "stdout",
     "output_type": "stream",
     "text": [
      "Vehicle type: Transport Vehicle\n",
      "Vehicle type: Car\n",
      "Car brand: Toyota\n",
      "Vehicle type: Electric Car\n",
      "Car brand: Tesla\n",
      "Battery capacity: 100 kWh\n"
     ]
    }
   ],
   "source": [
    "# Base class\n",
    "class Vehicle:\n",
    "    def __init__(self, vehicle_type):\n",
    "        self.vehicle_type = vehicle_type\n",
    "\n",
    "    def display_type(self):\n",
    "        print(f\"Vehicle type: {self.vehicle_type}\")\n",
    "\n",
    "# Intermediate class\n",
    "class Car(Vehicle):\n",
    "    def __init__(self, vehicle_type, brand):\n",
    "        super().__init__(vehicle_type)\n",
    "        self.brand = brand\n",
    "\n",
    "    def display_car_details(self):\n",
    "        print(f\"Car brand: {self.brand}\")\n",
    "\n",
    "# Derived class\n",
    "class ElectricCar(Car):\n",
    "    def __init__(self, vehicle_type, brand, battery_capacity):\n",
    "        super().__init__(vehicle_type, brand)\n",
    "        self.battery_capacity = battery_capacity\n",
    "\n",
    "    def display_electric_car_details(self):\n",
    "        print(f\"Battery capacity: {self.battery_capacity} kWh\")\n",
    "\n",
    "# Testing the multi-level inheritance\n",
    "# Creating a general Vehicle\n",
    "vehicle = Vehicle(\"Transport Vehicle\")\n",
    "vehicle.display_type()  # Output: Vehicle type: Transport Vehicle\n",
    "\n",
    "# Creating a Car\n",
    "car = Car(\"Car\", \"Toyota\")\n",
    "car.display_type()  # Output: Vehicle type: Car\n",
    "car.display_car_details()  # Output: Car brand: Toyota\n",
    "\n",
    "# Creating an ElectricCar\n",
    "electric_car = ElectricCar(\"Electric Car\", \"Tesla\", 100)\n",
    "electric_car.display_type()  # Output: Vehicle type: Electric Car\n",
    "electric_car.display_car_details()  # Output: Car brand: \n",
    "electric_car.display_electric_car_details()  # Output: Battery capacity: 100 kWh\n",
    "\n",
    "     "
   ]
  },
  {
   "cell_type": "markdown",
   "id": "70e35f06-ea66-4e13-9ac2-b15e1305bb35",
   "metadata": {},
   "source": [
    "### (5)  Write a program to demonstrate encapsulation by creating a class BankAccount with private attributes balance and methods to deposit, withdraw, and check balance."
   ]
  },
  {
   "cell_type": "code",
   "execution_count": 9,
   "id": "48eab651-5b4a-4533-874c-315f3e0faf5f",
   "metadata": {},
   "outputs": [
    {
     "name": "stdout",
     "output_type": "stream",
     "text": [
      "Current balance: 1000\n",
      "Deposited: 500\n",
      "Current balance: 1500\n",
      "Withdrawn: 300\n",
      "Current balance: 1200\n",
      "Insufficient balance.\n",
      "Deposit amount must be positive.\n"
     ]
    }
   ],
   "source": [
    "class BankAccount:\n",
    "    def __init__(self, initial_balance=0):\n",
    "        # Private attribute\n",
    "        self.__balance = initial_balance\n",
    "\n",
    "    # Method to deposit money\n",
    "    def deposit(self, amount):\n",
    "        if amount > 0:\n",
    "            self.__balance += amount\n",
    "            print(f\"Deposited: {amount}\")\n",
    "        else:\n",
    "            print(\"Deposit amount must be positive.\")\n",
    "\n",
    "    # Method to withdraw money\n",
    "    def withdraw(self, amount):\n",
    "        if 0 < amount <= self.__balance:\n",
    "            self.__balance -= amount\n",
    "            print(f\"Withdrawn: {amount}\")\n",
    "        elif amount > self.__balance:\n",
    "            print(\"Insufficient balance.\")\n",
    "        else:\n",
    "            print(\"Withdrawal amount must be positive.\")\n",
    "\n",
    "    # Method to check balance\n",
    "    def check_balance(self):\n",
    "        print(f\"Current balance: {self.__balance}\")\n",
    "\n",
    "# Testing the BankAccount class\n",
    "account = BankAccount(1000)  # Create account with an initial balance of 1000\n",
    "account.check_balance()      # Output: Current balance: 1000\n",
    "\n",
    "account.deposit(500)         # Output: Deposited: 500\n",
    "account.check_balance()      # Output: Current balance: 1500\n",
    "\n",
    "account.withdraw(300)        # Output: Withdrawn: 300\n",
    "account.check_balance()      # Output: Current balance: 1200\n",
    "\n",
    "account.withdraw(2000)       # Output: Insufficient balance.\n",
    "account.deposit(-100)        # Output: Deposit amount must be positive.\n"
   ]
  },
  {
   "cell_type": "markdown",
   "id": "97eee6b1-5e53-477f-ad9b-59712c97da1a",
   "metadata": {},
   "source": [
    "### (6)  Demonstrate runtime polymorphism using a method play() in a base class Instrument. Derive classes Guitar and Piano that implement their own version of play()"
   ]
  },
  {
   "cell_type": "code",
   "execution_count": 10,
   "id": "616d5c24-a467-4515-ae68-7bde982a0bd4",
   "metadata": {},
   "outputs": [
    {
     "name": "stdout",
     "output_type": "stream",
     "text": [
      "Playing an instrument.\n",
      "Strumming the guitar.\n",
      "Playing the piano.\n"
     ]
    }
   ],
   "source": [
    "# Base class\n",
    "class Instrument:\n",
    "    def play(self):\n",
    "        print(\"Playing an instrument.\")\n",
    "\n",
    "# Derived class for Guitar\n",
    "class Guitar(Instrument):\n",
    "    def play(self):\n",
    "        print(\"Strumming the guitar.\")\n",
    "\n",
    "# Derived class for Piano\n",
    "class Piano(Instrument):\n",
    "    def play(self):\n",
    "        print(\"Playing the piano.\")\n",
    "\n",
    "# Function to demonstrate runtime polymorphism\n",
    "def play_instrument(instrument):\n",
    "    instrument.play()\n",
    "\n",
    "# Testing the implementation\n",
    "instrument = Instrument()\n",
    "guitar = Guitar()\n",
    "piano = Piano()\n",
    "\n",
    "play_instrument(instrument)  # Output: Playing an instrument.\n",
    "play_instrument(guitar)      # Output: Strumming the guitar.\n",
    "play_instrument(piano)       # Output: Playing the piano.\n"
   ]
  },
  {
   "cell_type": "markdown",
   "id": "52552e35-70db-46f6-b8c6-89089580d56e",
   "metadata": {},
   "source": [
    "### (7)  Create a class MathOperations with a class method add_numbers() to add two numbers and a static method subtract_numbers() to subtract two numbers."
   ]
  },
  {
   "cell_type": "code",
   "execution_count": 11,
   "id": "d7d8c759-356e-4716-9092-57e4ea39432a",
   "metadata": {},
   "outputs": [
    {
     "name": "stdout",
     "output_type": "stream",
     "text": [
      "Addition result: 15\n",
      "Subtraction result: 5\n"
     ]
    }
   ],
   "source": [
    "class MathOperations:\n",
    "    # Class method to add two numbers\n",
    "    @classmethod\n",
    "    def add_numbers(cls, a, b):\n",
    "        return a + b\n",
    "\n",
    "    # Static method to subtract two numbers\n",
    "    @staticmethod\n",
    "    def subtract_numbers(a, b):\n",
    "        return a - b\n",
    "\n",
    "# Testing the MathOperations class\n",
    "result_add = MathOperations.add_numbers(10, 5)  # Using the class method\n",
    "print(f\"Addition result: {result_add}\")         # Output: Addition result: 15\n",
    "\n",
    "result_subtract = MathOperations.subtract_numbers(10, 5)  # Using the static method\n",
    "print(f\"Subtraction result: {result_subtract}\")           # Output: Subtraction result: 5"
   ]
  },
  {
   "cell_type": "markdown",
   "id": "600bd9ad-54ab-4ad0-9813-736b29caf350",
   "metadata": {},
   "source": [
    "### (8)  Implement a class Person with a class method to count the total number of persons created"
   ]
  },
  {
   "cell_type": "code",
   "execution_count": 12,
   "id": "1e9d90b8-8e91-4fdc-9c63-9419d032cac4",
   "metadata": {},
   "outputs": [
    {
     "name": "stdout",
     "output_type": "stream",
     "text": [
      "Total persons created: 3\n"
     ]
    }
   ],
   "source": [
    "class Person:\n",
    "    # Class-level attribute to track the count of persons\n",
    "    person_count = 0\n",
    "\n",
    "    def __init__(self, name):\n",
    "        self.name = name\n",
    "        # Increment the count whenever a new Person object is created\n",
    "        Person.person_count += 1\n",
    "\n",
    "    @classmethod\n",
    "    def get_person_count(cls):\n",
    "        return cls.person_count\n",
    "\n",
    "# Testing the Person class\n",
    "person1 = Person(\"Alice\")\n",
    "person2 = Person(\"Bob\")\n",
    "person3 = Person(\"Charlie\")\n",
    "\n",
    "print(f\"Total persons created: {Person.get_person_count()}\")  # Output: Total persons created: 3\n"
   ]
  },
  {
   "cell_type": "markdown",
   "id": "35a790b8-82bd-404a-8db5-65a6b6b204cf",
   "metadata": {},
   "source": [
    "### (9) Write a class Fraction with attributes numerator and denominator. Override the str method to display the fraction as \"numerator/denominator\""
   ]
  },
  {
   "cell_type": "code",
   "execution_count": 13,
   "id": "33e92d16-3e38-44d5-ba50-b0f82be5435c",
   "metadata": {},
   "outputs": [
    {
     "name": "stdout",
     "output_type": "stream",
     "text": [
      "Fraction 1: 3/4\n",
      "Fraction 2: 5/8\n"
     ]
    }
   ],
   "source": [
    "class Fraction:\n",
    "    def __init__(self, numerator, denominator):\n",
    "        self.numerator = numerator\n",
    "        self.denominator = denominator\n",
    "\n",
    "    def __str__(self):\n",
    "        return f\"{self.numerator}/{self.denominator}\"\n",
    "\n",
    "# Testing the Fraction class\n",
    "fraction1 = Fraction(3, 4)\n",
    "fraction2 = Fraction(5, 8)\n",
    "\n",
    "print(f\"Fraction 1: {fraction1}\")  # Output: Fraction 1: 3/4\n",
    "print(f\"Fraction 2: {fraction2}\")  # Output: Fraction 2: 5/8"
   ]
  },
  {
   "cell_type": "markdown",
   "id": "aaf9bed3-da4f-49ed-81c4-846e219dc031",
   "metadata": {},
   "source": [
    "### (10) . Demonstrate operator overloading by creating a class Vector and overriding the add method to add two vectors."
   ]
  },
  {
   "cell_type": "code",
   "execution_count": 14,
   "id": "56c2eee7-a5bb-4148-9ed9-cccde415c0aa",
   "metadata": {},
   "outputs": [
    {
     "name": "stdout",
     "output_type": "stream",
     "text": [
      "Vector 1: (2, 3)\n",
      "Vector 2: (4, 5)\n",
      "Result of addition: (6, 8)\n"
     ]
    }
   ],
   "source": [
    "class Vector:\n",
    "    def __init__(self, x, y):\n",
    "        self.x = x\n",
    "        self.y = y\n",
    "\n",
    "    # Overloading the '+' operator to add two vectors\n",
    "    def __add__(self, other):\n",
    "        if isinstance(other, Vector):\n",
    "            return Vector(self.x + other.x, self.y + other.y)\n",
    "        return NotImplemented\n",
    "\n",
    "    def __str__(self):\n",
    "        return f\"({self.x}, {self.y})\"\n",
    "\n",
    "# Testing the Vector class and operator overloading\n",
    "vector1 = Vector(2, 3)\n",
    "vector2 = Vector(4, 5)\n",
    "\n",
    "# Adding two vectors using the overloaded '+' operator\n",
    "result = vector1 + vector2\n",
    "\n",
    "print(f\"Vector 1: {vector1}\")  # Output: Vector 1: (2, 3)\n",
    "print(f\"Vector 2: {vector2}\")  # Output: Vector 2: (4, 5)\n",
    "print(f\"Result of addition: {result}\")  # Output: Result of addition: (6, 8)"
   ]
  },
  {
   "cell_type": "markdown",
   "id": "70109e29-bcb4-42be-ac86-3e87cbb39bac",
   "metadata": {},
   "source": [
    "### (11)  Create a class Person with attributes name and age. Add a method greet() that prints \"Hello, my name is {name} and I am {age} years old.\""
   ]
  },
  {
   "cell_type": "code",
   "execution_count": 15,
   "id": "2cd87b75-431a-4d62-8a69-3bdb6cf5abe5",
   "metadata": {},
   "outputs": [
    {
     "name": "stdout",
     "output_type": "stream",
     "text": [
      "Hello, my name is Alice and I am 30 years old.\n",
      "Hello, my name is Bob and I am 25 years old.\n"
     ]
    }
   ],
   "source": [
    "class Person:\n",
    "    def __init__(self, name, age):\n",
    "        self.name = name\n",
    "        self.age = age\n",
    "\n",
    "    def greet(self):\n",
    "        print(f\"Hello, my name is {self.name} and I am {self.age} years old.\")\n",
    "\n",
    "# Testing the Person class\n",
    "person1 = Person(\"Alice\", 30)\n",
    "person2 = Person(\"Bob\", 25)\n",
    "\n",
    "person1.greet()  # Output: Hello, my name is Alice and I am 30 years old.\n",
    "person2.greet()  # Output: Hello, my name is Bob and I am 25 years old.\n"
   ]
  },
  {
   "cell_type": "markdown",
   "id": "4e8fdc7f-58ce-40c5-90b6-e59aa5167926",
   "metadata": {},
   "source": [
    "### (12)  Implement a class Student with attributes name and grades. Create a method average_grade() to compute the average of the grades"
   ]
  },
  {
   "cell_type": "code",
   "execution_count": 16,
   "id": "0c8eacd4-0aeb-4538-8967-7c23be7dd2c6",
   "metadata": {},
   "outputs": [
    {
     "name": "stdout",
     "output_type": "stream",
     "text": [
      "Alice's average grade: 88.75\n",
      "Bob's average grade: 75.75\n"
     ]
    }
   ],
   "source": [
    "class Student:\n",
    "    def __init__(self, name, grades):\n",
    "        self.name = name\n",
    "        self.grades = grades  # grades is a list of numbers\n",
    "\n",
    "    def average_grade(self):\n",
    "        if len(self.grades) == 0:\n",
    "            return 0  # Return 0 if no grades are provided\n",
    "        return sum(self.grades) / len(self.grades)\n",
    "\n",
    "# Testing the Student class\n",
    "student1 = Student(\"Alice\", [90, 85, 88, 92])\n",
    "student2 = Student(\"Bob\", [75, 80, 70, 78])\n",
    "\n",
    "print(f\"{student1.name}'s average grade: {student1.average_grade():.2f}\")  # Output: Alice's average grade: 88.75\n",
    "print(f\"{student2.name}'s average grade: {student2.average_grade():.2f}\")  # Output: Bob's average grade: 75.25\n"
   ]
  },
  {
   "cell_type": "markdown",
   "id": "5b72719f-e375-4000-b792-cb2254eeaf15",
   "metadata": {},
   "source": [
    "### (13) Create a class Rectangle with methods set_dimensions() to set the dimensions and area() to calculate the area."
   ]
  },
  {
   "cell_type": "code",
   "execution_count": 18,
   "id": "ebd65360-24b2-4fe9-8c0f-89f296a8d4d0",
   "metadata": {},
   "outputs": [
    {
     "name": "stdout",
     "output_type": "stream",
     "text": [
      "Area of the rectangle: 15\n"
     ]
    }
   ],
   "source": [
    "class Rectangle:\n",
    "    def __init__(self):\n",
    "        self.length = 0\n",
    "        self.width = 0\n",
    "\n",
    "    # Method to set the dimensions of the rectangle\n",
    "    def set_dimensions(self, length, width):\n",
    "        self.length = length\n",
    "        self.width = width\n",
    "\n",
    "    # Method to calculate the area of the rectangle\n",
    "    def area(self):\n",
    "        return self.length * self.width\n",
    "\n",
    "# Testing the Rectangle class\n",
    "rectangle = Rectangle()\n",
    "\n",
    "# Set dimensions of the rectangle\n",
    "rectangle.set_dimensions(5, 3)\n",
    "\n",
    "# Calculate and print the area of the rectangle\n",
    "print(f\"Area of the rectangle: {rectangle.area()}\")  # Output: Area of the rectangle: 15"
   ]
  },
  {
   "cell_type": "markdown",
   "id": "4f6abbbe-5fc2-495c-bc15-c1115c4764b9",
   "metadata": {},
   "source": [
    "### (14)  Create a class Employee with a method calculate_salary() that computes the salary based on hours worked and hourly rate. Create a derived class Manager that adds a bonus to the salary."
   ]
  },
  {
   "cell_type": "code",
   "execution_count": 20,
   "id": "71570ed6-afe6-469f-a533-2f3ad34a74de",
   "metadata": {},
   "outputs": [
    {
     "name": "stdout",
     "output_type": "stream",
     "text": [
      "John's salary: $800\n",
      "Alice's salary: $1700\n"
     ]
    }
   ],
   "source": [
    "class Employee:\n",
    "    def __init__(self, name, hours_worked, hourly_rate):\n",
    "        self.name = name\n",
    "        self.hours_worked = hours_worked\n",
    "        self.hourly_rate = hourly_rate\n",
    "\n",
    "    # Method to calculate the salary based on hours worked and hourly rate\n",
    "    def calculate_salary(self):\n",
    "        return self.hours_worked * self.hourly_rate\n",
    "\n",
    "class Manager(Employee):\n",
    "    def __init__(self, name, hours_worked, hourly_rate, bonus):\n",
    "        super().__init__(name, hours_worked, hourly_rate)\n",
    "        self.bonus = bonus\n",
    "\n",
    "    # Overriding the calculate_salary method to include the bonus\n",
    "    def calculate_salary(self):\n",
    "        base_salary = super().calculate_salary()\n",
    "        return base_salary + self.bonus\n",
    "\n",
    "# Testing the Employee and Manager classes\n",
    "employee = Employee(\"John\", 40, 20)  # 40 hours worked at $20 per hour\n",
    "manager = Manager(\"Alice\", 40, 30, 500)  # 40 hours worked at 30perhour,witha500 bonus\n",
    "\n",
    "print(f\"{employee.name}'s salary: ${employee.calculate_salary()}\")  # Output: John's salary: $800\n",
    "print(f\"{manager.name}'s salary: ${manager.calculate_salary()}\")  # Output: Alice's salary: $1700"
   ]
  },
  {
   "cell_type": "markdown",
   "id": "a5827734-88fc-4486-995d-77c52d10c6e9",
   "metadata": {},
   "source": [
    "### (15)  Create a class Product with attributes name, price, and quantity. Implement a method total_price() that calculates the total price of the product."
   ]
  },
  {
   "cell_type": "code",
   "execution_count": 21,
   "id": "652e2baf-0917-41c4-a064-80f89d03bf8e",
   "metadata": {},
   "outputs": [
    {
     "name": "stdout",
     "output_type": "stream",
     "text": [
      "Total price of Laptop: $3000\n",
      "Total price of Smartphone: $2500\n"
     ]
    }
   ],
   "source": [
    "class Product:\n",
    "    def __init__(self, name, price, quantity):\n",
    "        self.name = name\n",
    "        self.price = price\n",
    "        self.quantity = quantity\n",
    "\n",
    "    # Method to calculate the total price of the product\n",
    "    def total_price(self):\n",
    "        return self.price * self.quantity\n",
    "\n",
    "# Testing the Product class\n",
    "product1 = Product(\"Laptop\", 1000, 3)\n",
    "product2 = Product(\"Smartphone\", 500, 5)\n",
    "\n",
    "# Calculate and print the total price for both products\n",
    "print(f\"Total price of {product1.name}: ${product1.total_price()}\")  # Output: Total price of Laptop: $3000\n",
    "print(f\"Total price of {product2.name}: ${product2.total_price()}\")  # Output: Total price of Smartphone: $2500"
   ]
  },
  {
   "cell_type": "markdown",
   "id": "4bd7b457-97fd-4cf4-9206-d44afe2aa10a",
   "metadata": {},
   "source": [
    "### (16) . Create a class Animal with an abstract method sound(). Create two derived classes Cow and Sheep that implement the sound() method"
   ]
  },
  {
   "cell_type": "code",
   "execution_count": 22,
   "id": "fe9003ea-0e64-4986-a3e7-4ec335b90c8a",
   "metadata": {},
   "outputs": [
    {
     "name": "stdout",
     "output_type": "stream",
     "text": [
      "Moo\n",
      "Baa\n"
     ]
    }
   ],
   "source": [
    "from abc import ABC, abstractmethod\n",
    "\n",
    "# Abstract base class\n",
    "class Animal(ABC):\n",
    "    @abstractmethod\n",
    "    def sound(self):\n",
    "        pass\n",
    "\n",
    "# Derived class Cow\n",
    "class Cow(Animal):\n",
    "    def sound(self):\n",
    "        print(\"Moo\")\n",
    "\n",
    "# Derived class Sheep\n",
    "class Sheep(Animal):\n",
    "    def sound(self):\n",
    "        print(\"Baa\")\n",
    "\n",
    "# Testing the Animal, Cow, and Sheep classes\n",
    "cow = Cow()\n",
    "sheep = Sheep()\n",
    "\n",
    "cow.sound()   # Output: Moo\n",
    "sheep.sound()  # Output: Baa"
   ]
  },
  {
   "cell_type": "markdown",
   "id": "d8eaf30c-37f9-432e-9605-416406e4286b",
   "metadata": {},
   "source": [
    "### (17)  Create a class Book with attributes title, author, and year_published. Add a method get_book_info() that returns a formatted string with the book's details."
   ]
  },
  {
   "cell_type": "code",
   "execution_count": 23,
   "id": "9407242b-4316-4060-a16a-224732413d09",
   "metadata": {},
   "outputs": [
    {
     "name": "stdout",
     "output_type": "stream",
     "text": [
      "'To Kill a Mockingbird' by Harper Lee, published in 1960\n",
      "'1984' by George Orwell, published in 1949\n"
     ]
    }
   ],
   "source": [
    "class Book:\n",
    "    def __init__(self, title, author, year_published):\n",
    "        self.title = title\n",
    "        self.author = author\n",
    "        self.year_published = year_published\n",
    "\n",
    "    # Method to get the book's details in a formatted string\n",
    "    def get_book_info(self):\n",
    "        return f\"'{self.title}' by {self.author}, published in {self.year_published}\"\n",
    "\n",
    "# Testing the Book class\n",
    "book1 = Book(\"To Kill a Mockingbird\", \"Harper Lee\", 1960)\n",
    "book2 = Book(\"1984\", \"George Orwell\", 1949)\n",
    "\n",
    "# Get and print the details of the books\n",
    "print(book1.get_book_info())  # Output: 'To Kill a Mockingbird' by Harper Lee, published in 1960\n",
    "print(book2.get_book_info())  # Output: '1984' by George Orwell, published in 1949\n"
   ]
  },
  {
   "cell_type": "markdown",
   "id": "52e6019d-eb27-4261-9285-2323afa64aed",
   "metadata": {},
   "source": [
    "### (18) . Create a class House with attributes address and price. Create a derived class Mansion that adds an attribute number_of_rooms."
   ]
  },
  {
   "cell_type": "code",
   "execution_count": 24,
   "id": "17799245-d037-4786-9ea5-3ece2aaa3602",
   "metadata": {},
   "outputs": [
    {
     "name": "stdout",
     "output_type": "stream",
     "text": [
      "Address: 1234 Elm St, Price: $250000\n",
      "Address: 5678 Oak Ave, Price: $1500000, Number of Rooms: 10\n"
     ]
    }
   ],
   "source": [
    "# Base class House\n",
    "class House:\n",
    "    def __init__(self, address, price):\n",
    "        self.address = address\n",
    "        self.price = price\n",
    "\n",
    "    def get_info(self):\n",
    "        return f\"Address: {self.address}, Price: ${self.price}\"\n",
    "\n",
    "# Derived class Mansion\n",
    "class Mansion(House):\n",
    "    def __init__(self, address, price, number_of_rooms):\n",
    "        # Call the constructor of the base class\n",
    "        super().__init__(address, price)\n",
    "        self.number_of_rooms = number_of_rooms\n",
    "\n",
    "    def get_mansion_info(self):\n",
    "        # Get the base class info and add mansion-specific details\n",
    "        base_info = super().get_info()\n",
    "        return f\"{base_info}, Number of Rooms: {self.number_of_rooms}\"\n",
    "\n",
    "# Testing the House and Mansion classes\n",
    "house = House(\"1234 Elm St\", 250000)\n",
    "mansion = Mansion(\"5678 Oak Ave\", 1500000, 10)\n",
    "\n",
    "# Get and print the information for both the house and the mansion\n",
    "print(house.get_info())  # Output: Address: 1234 Elm St, Price: $250000\n",
    "print(mansion.get_mansion_info())  # Output: Address: 5678 Oak Ave, Price: $1500000, Number of Rooms: 10"
   ]
  },
  {
   "cell_type": "code",
   "execution_count": null,
   "id": "8af5d092-b6b3-4b82-84f3-4a3aba61b0bf",
   "metadata": {},
   "outputs": [],
   "source": []
  }
 ],
 "metadata": {
  "kernelspec": {
   "display_name": "Python 3 (ipykernel)",
   "language": "python",
   "name": "python3"
  },
  "language_info": {
   "codemirror_mode": {
    "name": "ipython",
    "version": 3
   },
   "file_extension": ".py",
   "mimetype": "text/x-python",
   "name": "python",
   "nbconvert_exporter": "python",
   "pygments_lexer": "ipython3",
   "version": "3.12.6"
  }
 },
 "nbformat": 4,
 "nbformat_minor": 5
}
